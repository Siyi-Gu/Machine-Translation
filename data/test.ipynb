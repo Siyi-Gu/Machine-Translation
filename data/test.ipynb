{
 "cells": [
  {
   "cell_type": "code",
   "execution_count": 1,
   "metadata": {},
   "outputs": [],
   "source": [
    "import re\n",
    "import pandas as pd\n",
    "import numpy as np\n",
    "from sklearn.model_selection import train_test_split"
   ]
  },
  {
   "cell_type": "code",
   "execution_count": 2,
   "metadata": {},
   "outputs": [],
   "source": [
    "def pairs(f1,f2):\n",
    "    data ={}\n",
    "    data[\"source\"] =[]\n",
    "    data[\"target\"] =[]\n",
    "    with open(f1,encoding='utf-8') as src_file, open(f2,encoding='utf-8') as tgt_file:\n",
    "        for src, tgt in zip(src_file,tgt_file):\n",
    "            data[\"source\"].append(re.sub(\"\\(.*?\\)\", \"\", src.strip())+'\\n')\n",
    "            data[\"target\"].append(re.sub(\"\\(.*?\\)\", \"\", tgt.strip())+'\\n')\n",
    "    return data"
   ]
  },
  {
   "cell_type": "code",
   "execution_count": 4,
   "metadata": {},
   "outputs": [],
   "source": [
    "gu_pairs = pairs(\"TED2020.en-gu.gu\",\"TED2020.en-gu.en\")\n",
    "\n",
    "#remove empyty rows\n",
    "gu_df = pd.DataFrame.from_dict(gu_pairs)\n",
    "gu_df.replace(\"\", np.nan, inplace=True)\n",
    "gu_df.replace(\"\\n\", np.nan, inplace=True)\n",
    "gu_df.dropna(subset=['target'], inplace=True)\n",
    "gu_df.dropna(subset=['source'], inplace=True)"
   ]
  },
  {
   "cell_type": "code",
   "execution_count": 5,
   "metadata": {},
   "outputs": [
    {
     "data": {
      "text/html": [
       "<div>\n",
       "<style scoped>\n",
       "    .dataframe tbody tr th:only-of-type {\n",
       "        vertical-align: middle;\n",
       "    }\n",
       "\n",
       "    .dataframe tbody tr th {\n",
       "        vertical-align: top;\n",
       "    }\n",
       "\n",
       "    .dataframe thead th {\n",
       "        text-align: right;\n",
       "    }\n",
       "</style>\n",
       "<table border=\"1\" class=\"dataframe\">\n",
       "  <thead>\n",
       "    <tr style=\"text-align: right;\">\n",
       "      <th></th>\n",
       "      <th>source</th>\n",
       "      <th>target</th>\n",
       "    </tr>\n",
       "  </thead>\n",
       "  <tbody>\n",
       "    <tr>\n",
       "      <th>0</th>\n",
       "      <td>ખુબ ખુબ ધન્યવાદ ક્રીસ.\\n</td>\n",
       "      <td>Thank you so much, Chris.\\n</td>\n",
       "    </tr>\n",
       "    <tr>\n",
       "      <th>1</th>\n",
       "      <td>અને એ તો ખરેખર મારું અહોભાગ્ય છે. કે મને અહી મ...</td>\n",
       "      <td>And it's truly a great honor to have the oppor...</td>\n",
       "    </tr>\n",
       "    <tr>\n",
       "      <th>2</th>\n",
       "      <td>હું આ સંમેલન થી ઘણો ખુશ થયો છે, અને તમને બધાને...</td>\n",
       "      <td>I have been blown away by this conference, and...</td>\n",
       "    </tr>\n",
       "    <tr>\n",
       "      <th>3</th>\n",
       "      <td>અને હું ઈમાનદારીથી કહું છું, આંશિક રૂપે કારણકે...</td>\n",
       "      <td>And I say that sincerely, partly because  I ne...</td>\n",
       "    </tr>\n",
       "    <tr>\n",
       "      <th>4</th>\n",
       "      <td>તમે પોતાની જાતને મારી પરિસ્થિતિમાં મૂકી જુવો.\\n</td>\n",
       "      <td>Put yourselves in my position.\\n</td>\n",
       "    </tr>\n",
       "    <tr>\n",
       "      <th>...</th>\n",
       "      <td>...</td>\n",
       "      <td>...</td>\n",
       "    </tr>\n",
       "    <tr>\n",
       "      <th>15964</th>\n",
       "      <td>અને આભાર.\\n</td>\n",
       "      <td>And thank you.\\n</td>\n",
       "    </tr>\n",
       "    <tr>\n",
       "      <th>15965</th>\n",
       "      <td>આભાર.\\n</td>\n",
       "      <td>Thank you.\\n</td>\n",
       "    </tr>\n",
       "    <tr>\n",
       "      <th>15966</th>\n",
       "      <td>આભાર.\\n</td>\n",
       "      <td>Thank you.\\n</td>\n",
       "    </tr>\n",
       "    <tr>\n",
       "      <th>15967</th>\n",
       "      <td>\\n</td>\n",
       "      <td>\\n</td>\n",
       "    </tr>\n",
       "    <tr>\n",
       "      <th>15968</th>\n",
       "      <td>\\n</td>\n",
       "      <td>\\n</td>\n",
       "    </tr>\n",
       "  </tbody>\n",
       "</table>\n",
       "<p>15969 rows × 2 columns</p>\n",
       "</div>"
      ],
      "text/plain": [
       "                                                  source  \\\n",
       "0                               ખુબ ખુબ ધન્યવાદ ક્રીસ.\\n   \n",
       "1      અને એ તો ખરેખર મારું અહોભાગ્ય છે. કે મને અહી મ...   \n",
       "2      હું આ સંમેલન થી ઘણો ખુશ થયો છે, અને તમને બધાને...   \n",
       "3      અને હું ઈમાનદારીથી કહું છું, આંશિક રૂપે કારણકે...   \n",
       "4        તમે પોતાની જાતને મારી પરિસ્થિતિમાં મૂકી જુવો.\\n   \n",
       "...                                                  ...   \n",
       "15964                                        અને આભાર.\\n   \n",
       "15965                                            આભાર.\\n   \n",
       "15966                                            આભાર.\\n   \n",
       "15967                                                 \\n   \n",
       "15968                                                 \\n   \n",
       "\n",
       "                                                  target  \n",
       "0                            Thank you so much, Chris.\\n  \n",
       "1      And it's truly a great honor to have the oppor...  \n",
       "2      I have been blown away by this conference, and...  \n",
       "3      And I say that sincerely, partly because  I ne...  \n",
       "4                       Put yourselves in my position.\\n  \n",
       "...                                                  ...  \n",
       "15964                                   And thank you.\\n  \n",
       "15965                                       Thank you.\\n  \n",
       "15966                                       Thank you.\\n  \n",
       "15967                                                 \\n  \n",
       "15968                                                 \\n  \n",
       "\n",
       "[15969 rows x 2 columns]"
      ]
     },
     "execution_count": 5,
     "metadata": {},
     "output_type": "execute_result"
    }
   ],
   "source": [
    "gu_df"
   ]
  }
 ],
 "metadata": {
  "interpreter": {
   "hash": "ac59ebe37160ed0dfa835113d9b8498d9f09ceb179beaac4002f036b9467c963"
  },
  "kernelspec": {
   "display_name": "Python 3.9.5 64-bit",
   "name": "python3"
  },
  "language_info": {
   "codemirror_mode": {
    "name": "ipython",
    "version": 3
   },
   "file_extension": ".py",
   "mimetype": "text/x-python",
   "name": "python",
   "nbconvert_exporter": "python",
   "pygments_lexer": "ipython3",
   "version": "3.9.5"
  },
  "orig_nbformat": 4
 },
 "nbformat": 4,
 "nbformat_minor": 2
}
